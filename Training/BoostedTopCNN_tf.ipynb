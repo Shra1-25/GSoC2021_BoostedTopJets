{
  "nbformat": 4,
  "nbformat_minor": 0,
  "metadata": {
    "colab": {
      "name": "BoostedTopCNN_tf.ipynb",
      "provenance": [],
      "collapsed_sections": []
    },
    "kernelspec": {
      "name": "python3",
      "display_name": "Python 3"
    },
    "language_info": {
      "name": "python"
    },
    "accelerator": "GPU"
  },
  "cells": [
    {
      "cell_type": "code",
      "metadata": {
        "id": "2hf34Irphwqb",
        "colab": {
          "base_uri": "https://localhost:8080/"
        },
        "outputId": "c0618a6e-f3a3-42c3-9c8b-2c62d14f340d"
      },
      "source": [
        "from google.colab import drive\n",
        "drive.mount('/content/drive')"
      ],
      "execution_count": null,
      "outputs": [
        {
          "output_type": "stream",
          "text": [
            "Mounted at /content/drive\n"
          ],
          "name": "stdout"
        }
      ]
    },
    {
      "cell_type": "code",
      "metadata": {
        "id": "1tSQ44_fhriX",
        "colab": {
          "base_uri": "https://localhost:8080/"
        },
        "outputId": "a2c164df-8d2b-4466-b880-9f2d51c7e0ce"
      },
      "source": [
        "cd drive/My Drive/google_colab_gpu/CMS_Graphs"
      ],
      "execution_count": null,
      "outputs": [
        {
          "output_type": "stream",
          "text": [
            "/content/drive/My Drive/google_colab_gpu/CMS_Graphs\n"
          ],
          "name": "stdout"
        }
      ]
    },
    {
      "cell_type": "code",
      "metadata": {
        "id": "kH1B0E44aqqB"
      },
      "source": [
        "import numpy as np\n",
        "np.random.seed(0)\n",
        "import os, glob\n",
        "import time\n",
        "import datetime\n",
        "import h5py\n",
        "import tensorflow.keras as keras\n",
        "import math\n",
        "import tensorflow as tf\n",
        "from sklearn.metrics import roc_curve, auc\n",
        "#from novograd import NovoGrad\n",
        "from sklearn.metrics import roc_curve, auc\n",
        "from tensorflow.keras.mixed_precision import experimental as mixed_precision"
      ],
      "execution_count": null,
      "outputs": []
    },
    {
      "cell_type": "code",
      "metadata": {
        "id": "URTUphr9gB3p",
        "colab": {
          "base_uri": "https://localhost:8080/"
        },
        "outputId": "3002fe2b-84c3-463e-e043-8c76461b9377"
      },
      "source": [
        "gpus = tf.config.experimental.list_physical_devices('GPU')\n",
        "for gpu in gpus:\n",
        "    tf.config.experimental.set_memory_growth(gpu, True)\n",
        "if gpus:\n",
        "    print()\n",
        "    #tf.config.experimental.set_visible_devices(gpus[hvd.local_rank()], 'GPU')\n",
        "\n",
        "USE_XLA = True\n",
        "if USE_XLA:\n",
        "    tf.config.optimizer.set_jit(USE_XLA)\n",
        "    #reference url : https://www.tensorflow.org/xla\n",
        "policy = mixed_precision.Policy('mixed_float16')\n",
        "mixed_precision.set_policy(policy)\n"
      ],
      "execution_count": null,
      "outputs": [
        {
          "output_type": "stream",
          "text": [
            "\n",
            "INFO:tensorflow:Mixed precision compatibility check (mixed_float16): OK\n",
            "Your GPU will likely run quickly with dtype policy mixed_float16 as it has compute capability of at least 7.0. Your GPU: Tesla T4, compute capability 7.5\n",
            "WARNING:tensorflow:From /usr/local/lib/python3.7/dist-packages/tensorflow/python/keras/mixed_precision/loss_scale.py:51: DynamicLossScale.__init__ (from tensorflow.python.training.experimental.loss_scale) is deprecated and will be removed in a future version.\n",
            "Instructions for updating:\n",
            "Use tf.keras.mixed_precision.LossScaleOptimizer instead. LossScaleOptimizer now has all the functionality of DynamicLossScale\n"
          ],
          "name": "stdout"
        }
      ]
    },
    {
      "cell_type": "code",
      "metadata": {
        "id": "8iPKFEhFgM3l"
      },
      "source": [
        "epochs = 3\n",
        "lr_init = 0.001\n",
        "resblocks = 3\n",
        "cuda = 0\n",
        "start_epoch = 0\n",
        "save_dir = 'MODELS_BTJ_TF'\n",
        "warmup_epochs = 5\n",
        "expt_name = 'BoostedJets-opendata_ResNet_blocks%d_x1_epochs%d'%(resblocks, epochs)\n",
        "expt_name = expt_name + '-' +  datetime.date.strftime(datetime.datetime.now(),\"%Y%m%d-%H%M%S\")\n",
        "verbose = 1"
      ],
      "execution_count": null,
      "outputs": []
    },
    {
      "cell_type": "code",
      "metadata": {
        "id": "_F3T4aeJgQ1k"
      },
      "source": [
        "# Path to directory containing TFRecord files\n",
        "datafile = glob.glob('./data_shared/BoostedTopJets_0_400/*') #datafile = tf.data.Dataset.list_files('/home/u00u5ev76whwBTLvWe357/multiGPU/tfrecord_x1/*')\n",
        "test_datafile = glob.glob('./data_shared/BoostedTopJets_401_800/*') #datafile = tf.data.Dataset.list_files('/home/u00u5ev76whwBTLvWe357/multiGPU/tfrecord_x1/*')"
      ],
      "execution_count": null,
      "outputs": []
    },
    {
      "cell_type": "code",
      "metadata": {
        "id": "iFR2tf8eiaNT"
      },
      "source": [
        "def LR_Decay(epoch):\n",
        "    drop = 0.5\n",
        "    epochs_drop = 10\n",
        "    lr = lr_init * math.pow(drop, math.floor((epoch+1)/epochs_drop))\n",
        "    return lr\n",
        "\n",
        "def restart_epoch(epochs):\n",
        "    epoch = 0\n",
        "    for try_epoch in range(epochs, 0, -1):\n",
        "        if os.path.exists(expt_name.format(epoch=try_epoch)):\n",
        "            epoch = try_epoch\n",
        "            break\n",
        "\n",
        "    return epoch"
      ],
      "execution_count": null,
      "outputs": []
    },
    {
      "cell_type": "code",
      "metadata": {
        "id": "YScfOKlIieiN"
      },
      "source": [
        "BATCH_SZ = 64\n",
        "train_sz = 3200*200#*80000\n",
        "valid_sz = 3200*40\n",
        "test_sz  = 3200*20\n",
        "\n",
        "valid_steps = valid_sz // (BATCH_SZ)#*hvd.size())\n",
        "test_steps  = test_sz  // (BATCH_SZ)#*hvd.size())"
      ],
      "execution_count": null,
      "outputs": []
    },
    {
      "cell_type": "code",
      "metadata": {
        "id": "jAUUvO-Dig0e"
      },
      "source": [
        "channels = [0,1,2,3,4,5,6,7]\n",
        "granularity=3"
      ],
      "execution_count": null,
      "outputs": []
    },
    {
      "cell_type": "code",
      "metadata": {
        "id": "tYnsZxD8iluZ"
      },
      "source": [
        "# Mapping functions used to convert tfrecords to tf dataset\n",
        "# ~~~~~~~~~~~~~~~~~~~~~~~~~~~~~~~~~~~~~~~~~~~~~~~~~~~~~~~~~~~~~~~~~~~~~~~~~~~~~\n",
        "#@nvtx_tf.ops.trace(message='ExtractFromTFRecord', domain_name='DataLoading', grad_domain_name='BoostedJets')\n",
        "def extract_fn(data):\n",
        "    # extracts fields from TFRecordDataset\n",
        "    feature_description = {\n",
        "        'X_jets': tf.io.FixedLenFeature([125*granularity*125*granularity*8], tf.float32),\n",
        "        #'m0': tf.io.FixedLenFeature([], tf.float32), \n",
        "        #'pt': tf.io.FixedLenFeature([], tf.float32),\n",
        "        'y': tf.io.FixedLenFeature([], tf.float32)\n",
        "    }\n",
        "    sample = tf.io.parse_single_example(serialized=data, features=feature_description)\n",
        "    return sample\n",
        "\n",
        "classes = 2\n",
        "def map_fn(data):\n",
        "    # reshapes X_jets, converts y to one-hot array for feeding into keras model\n",
        "    x = tf.reshape(data['X_jets'], (125*granularity,125*granularity,8))[...,0:]\n",
        "    y = tf.one_hot(tf.cast(data['y'], tf.uint8), classes)\n",
        "    return x, y\n",
        "\n",
        "def x_fn(data):\n",
        "    return tf.reshape(data['X_jets'], (125*granularity,125*granularity,8))[...,0:]\n",
        "\n",
        "def y_fn(data):\n",
        "    return data['y']\n",
        "\n",
        "class myCallback(tf.keras.callbacks.Callback):\n",
        "    def on_epoch_end(self,epoch,logs={}):\n",
        "        print(\"\\n Timestamp: \"+str(tf.cast(tf.timestamp(),tf.float64)))"
      ],
      "execution_count": null,
      "outputs": []
    },
    {
      "cell_type": "code",
      "metadata": {
        "id": "IrPZawl-irnr"
      },
      "source": [
        "# ~~~~~~~~~~~~~~~~~~~~~~~~~~~~~~~~~~~~~~~~~~~~~~~~~~~~~~~~~~~~~~~~~~~~~~~~~~~~~\n",
        "\n",
        "# creates training dataset containing first data_size examples in datafile\n",
        "# - datafile: name (or list of names) of TFRecord file containing training data\n",
        "#@nvtx_tf.ops.trace(message='train_dataset', domain_name='DataLoading', grad_domain_name='BoostedJets')\n",
        "def train_dataset_generator(dataset, is_training=True, batch_sz=32, columns=[0,1,2], data_size = 32*10000):\n",
        "    if is_training:\n",
        "        print(\"Stage1 shuffle time: \"+str(tf.cast(tf.timestamp(),tf.float64)))\n",
        "        dataset = dataset.shuffle(batch_sz * 2)\n",
        "        print(\"Stage2 shuffle time: \"+str(tf.cast(tf.timestamp(),tf.float64)))\n",
        "    print(\"Stage1 map+shuffle+repeat+batch+prefetch time: \"+str(tf.cast(tf.timestamp(),tf.float64)))\n",
        "    dataset = dataset.map(map_fn, num_parallel_calls=tf.data.experimental.AUTOTUNE).batch(batch_sz, drop_remainder=True if is_training else False).repeat().prefetch(tf.data.experimental.AUTOTUNE)\n",
        "    print(\"Stage2 map+shuffle+repeat+batch+prefetch time: \"+str(tf.cast(tf.timestamp(),tf.float64)))\n",
        "    #dataset = dataset.map(map_fn,num_parallel_calls=NUM_WORKERS).batch(batch_sz, drop_remainder=True if is_training else False)\n",
        "    # dataset = dataset.repeat()\n",
        "    # dataset = dataset.prefetch(tf.data.experimental.AUTOTUNE)\n",
        "    #dataset = dataset.apply(tf.data.experimental.ignore_errors())\n",
        "\n",
        "    return dataset"
      ],
      "execution_count": null,
      "outputs": []
    },
    {
      "cell_type": "code",
      "metadata": {
        "id": "XIGiMGFdiuZk"
      },
      "source": [
        "# creates training dataset containing first data_size examples in datafile\n",
        "# - datafile: name (or list of names) of TFRecord file containing training data\n",
        "#@nvtx_tf.ops.trace(message='get_dataset', domain_name='DataLoading', grad_domain_name='BoostedJets')\n",
        "def get_dataset(dataset, start, end, batch_sz=32, columns=channels):\n",
        "    dataset = dataset.map(map_fn, num_parallel_calls=tf.data.experimental.AUTOTUNE).batch(batch_sz, drop_remainder=False).repeat().prefetch(tf.data.experimental.AUTOTUNE)\n",
        "    #dataset = dataset.map(map_fn, num_parallel_calls=NUM_WORKERS).batch(batch_sz, drop_remainder=False)\n",
        "    #dataset = dataset.repeat()\n",
        "    #dataset = dataset.prefetch(tf.data.experimental.AUTOTUNE)\n",
        "    #dataset = dataset.apply(tf.data.experimental.ignore_errors())\n",
        "\n",
        "    return dataset\n",
        "\n",
        "#@nvtx_tf.ops.trace(message='test_dataset', domain_name='DataLoading', grad_domain_name='BoostedJets')\n",
        "def test_dataset(dataset, start, end, batch_sz=32):\n",
        "    X = dataset.map(map_fn, num_parallel_calls=tf.data.experimental.AUTOTUNE).batch(batch_sz, drop_remainder=False)\n",
        "    #X = dataset.map(map_fn).batch(batch_sz, drop_remainder=False)\n",
        "    Y = dataset.map(y_fn, num_parallel_calls=tf.data.experimental.AUTOTUNE).batch(end-start)\n",
        "    #Y = dataset.map(y_fn).batch(end-start)\n",
        "\n",
        "    return X,Y"
      ],
      "execution_count": null,
      "outputs": []
    },
    {
      "cell_type": "code",
      "metadata": {
        "id": "II4gqgtIi1C-"
      },
      "source": [
        "#@nvtx_tf.ops.trace(message='Creat Resnet', domain_name='Resnet', grad_domain_name='BoostedJets')\n",
        "def create_resnet():\n",
        "    # Build network\n",
        "    import Notebooks.models.keras_resnet_single as networks\n",
        "    resnet = networks.ResNet.build(len(channels), resblocks, [16,32], (125*granularity,125*granularity,len(channels)), granularity)\n",
        "    # Load saved weights, if indicated\n",
        "    if start_epoch != 0:\n",
        "        directory = save_dir\n",
        "        if save_dir == '':\n",
        "            directory = expt_name\n",
        "        model_name = glob.glob('MODELS_BTJ_TF/%s/epoch%02d-*.hdf5'%(directory, start_epoch))[0]\n",
        "        #assert len(model_name) == 2\n",
        "        #model_name = model_name[0].split('.hdf5')[0]+'.hdf5'\n",
        "        print('Loading weights from file:', model_name)\n",
        "        resnet.load_weights(model_name)\n",
        "    opt = keras.optimizers.Adam(lr=lr_init, epsilon=1.e-5) # changed eps to match pytorch value\n",
        "    #opt = keras.optimizers.SGD(lr=lr_init * hvd.size())\n",
        "    #opt = NovoGrad(learning_rate=lr_init * hvd.size())\n",
        "    #Wrap the optimizer in a Horovod distributed optimizer -> uses hvd.DistributedOptimizer() to compute gradients.\n",
        "    #opt = tf.train.experimental.enable_mixed_precision_graph_rewrite(opt)\n",
        "    #opt = hvd.DistributedOptimizer(opt)\n",
        "\n",
        "    #For Horovod: We specify `experimental_run_tf_function=False` to ensure TensorFlow\n",
        "    resnet.compile(loss='binary_crossentropy', optimizer=opt, metrics=['accuracy'], experimental_run_tf_function = False)\n",
        "    #resnet.compile(loss='binary_crossentropy', optimizer=opt, metrics=['accuracy'])\n",
        "    resnet.summary()\n",
        "    return resnet"
      ],
      "execution_count": null,
      "outputs": []
    },
    {
      "cell_type": "code",
      "metadata": {
        "colab": {
          "base_uri": "https://localhost:8080/"
        },
        "id": "tAXD6Ht5M25i",
        "outputId": "6a87c398-61c0-47a1-bb24-38b6bf71449a"
      },
      "source": [
        "#LOADING DATA\n",
        "names = datafile\n",
        "dataset = tf.data.TFRecordDataset(filenames=names, compression_type='GZIP', num_parallel_reads=tf.data.experimental.AUTOTUNE)\n",
        "dataset = dataset.map(extract_fn, num_parallel_calls=tf.data.experimental.AUTOTUNE)\n",
        "train_data = train_dataset_generator(dataset.take(train_sz), is_training=True, batch_sz=BATCH_SZ, columns=channels, data_size=train_sz)\n",
        "\n",
        "for i,data in enumerate(train_data):\n",
        "  print(i,data[0].shape)\n",
        "  break\n"
      ],
      "execution_count": null,
      "outputs": [
        {
          "output_type": "stream",
          "text": [
            "Stage1 shuffle time: tf.Tensor(1627484624.440001, shape=(), dtype=float64)\n",
            "Stage2 shuffle time: tf.Tensor(1627484624.446824, shape=(), dtype=float64)\n",
            "Stage1 map+shuffle+repeat+batch+prefetch time: tf.Tensor(1627484624.446965, shape=(), dtype=float64)\n",
            "Stage2 map+shuffle+repeat+batch+prefetch time: tf.Tensor(1627484624.503054, shape=(), dtype=float64)\n",
            "0 (64, 375, 375, 8)\n"
          ],
          "name": "stdout"
        }
      ]
    },
    {
      "cell_type": "code",
      "metadata": {
        "colab": {
          "base_uri": "https://localhost:8080/",
          "height": 893
        },
        "id": "cdaSvmdFNKHs",
        "outputId": "6366bc28-c040-4dc8-daa9-3485629a9cc2"
      },
      "source": [
        "import matplotlib.pyplot as plt\n",
        "import seaborn as sns\n",
        "idx=1\n",
        "plt.subplots(figsize=(20,15))\n",
        "ax = sns.heatmap(data[0][idx,:,:,0], cmap=\"CMRmap\", vmin=0, vmax=1)#, mask=mask_shower[0])#,linecolor=\"blue\",linewidths=0.05)\n",
        "print(\"pT\",data[1][idx])#, max occ idx:\",max_occ_idx,\"max_occ: \",max_occ )"
      ],
      "execution_count": null,
      "outputs": [
        {
          "output_type": "stream",
          "text": [
            "pT tf.Tensor([1. 0.], shape=(2,), dtype=float32)\n"
          ],
          "name": "stdout"
        },
        {
          "output_type": "display_data",
          "data": {
            "image/png": "[encoded data removed]",
            "text/plain": [
              "<Figure size 1440x1080 with 2 Axes>"
            ]
          },
          "metadata": {
            "tags": [],
            "needs_background": "light"
          }
        }
      ]
    },
    {
      "cell_type": "code",
      "metadata": {
        "colab": {
          "base_uri": "https://localhost:8080/",
          "height": 893
        },
        "id": "Y9LgCyNmNeIk",
        "outputId": "63f6f27b-fb0f-4762-fb94-bf6e08ed9bd5"
      },
      "source": [
        "plt.subplots(figsize=(20,15))\n",
        "ax = sns.heatmap(data[0][idx,:,:,3], cmap=\"CMRmap\", vmin=0, vmax=1)#, mask=mask_shower[0])#,linecolor=\"blue\",linewidths=0.05)\n",
        "print(\"ECAL\",data[1][idx])#, max occ idx:\",max_occ_idx,\"max_occ: \",max_occ )"
      ],
      "execution_count": null,
      "outputs": [
        {
          "output_type": "stream",
          "text": [
            "ECAL tf.Tensor([1. 0.], shape=(2,), dtype=float32)\n"
          ],
          "name": "stdout"
        },
        {
          "output_type": "display_data",
          "data": {
            "image/png": "[encoded data removed]",
            "text/plain": [
              "<Figure size 1440x1080 with 2 Axes>"
            ]
          },
          "metadata": {
            "tags": [],
            "needs_background": "light"
          }
        }
      ]
    },
    {
      "cell_type": "code",
      "metadata": {
        "colab": {
          "base_uri": "https://localhost:8080/",
          "height": 893
        },
        "id": "TKrYPQZbNoRD",
        "outputId": "92a40f23-d464-4316-a94c-8d68e9635cf7"
      },
      "source": [
        "plt.subplots(figsize=(20,15))\n",
        "ax = sns.heatmap(data[0][idx,:,:,4], cmap=\"CMRmap\", vmin=0, vmax=1)#, mask=mask_shower[0])#,linecolor=\"blue\",linewidths=0.05)\n",
        "print(\"HCAL\",data[1][idx])#, max occ idx:\",max_occ_idx,\"max_occ: \",max_occ )"
      ],
      "execution_count": null,
      "outputs": [
        {
          "output_type": "stream",
          "text": [
            "HCAL tf.Tensor([1. 0.], shape=(2,), dtype=float32)\n"
          ],
          "name": "stdout"
        },
        {
          "output_type": "display_data",
          "data": {
            "image/png": "[encoded data removed]",
            "text/plain": [
              "<Figure size 1440x1080 with 2 Axes>"
            ]
          },
          "metadata": {
            "tags": [],
            "needs_background": "light"
          }
        }
      ]
    },
    {
      "cell_type": "markdown",
      "metadata": {
        "id": "RXRQ2bYjxWSn"
      },
      "source": [
        "## Training x3 Boosted Top Data"
      ]
    },
    {
      "cell_type": "code",
      "metadata": {
        "colab": {
          "base_uri": "https://localhost:8080/"
        },
        "id": "4FFrBquMjk8D",
        "outputId": "f8fe2afc-5a2a-4174-fa71-721caf435807"
      },
      "source": [
        "if __name__ == '__main__':\n",
        "    decay = ''\n",
        "    #print(\">> Input file:\",datafile)\n",
        "    expt_name = '%s_%s'%(decay, expt_name)\n",
        "    for d in ['MODELS_BTJ_TF', 'METRICS']:\n",
        "        if not os.path.isdir('%s/%s'%(d, expt_name)):\n",
        "            os.makedirs('%s/%s'%(d, expt_name))\n",
        "    # Build network\n",
        "    resnet = create_resnet()\n",
        "    # Model Callbacks\n",
        "    callbacks_list = []\n",
        "    callbacks_list.append(myCallback())\n",
        "    resume_from_epoch = 0\n",
        "    callbacks_list.append(keras.callbacks.ModelCheckpoint('MODELS_BTJ_TF/' + expt_name + '/epoch{epoch:02d}.hdf5', verbose=verbose, save_best_only=False))#, save_weights_only=True)\n",
        "    callbacks_list.append(keras.callbacks.TensorBoard(save_dir))\n",
        "    resume_from_epoch = restart_epoch(epochs)\n",
        "    #resume_from_epoch = hvd.broadcast(resume_from_epoch, 0)\n",
        "\n",
        "    #LOADING DATA\n",
        "    names = datafile\n",
        "    dataset = tf.data.TFRecordDataset(filenames=names, compression_type='GZIP', num_parallel_reads=tf.data.experimental.AUTOTUNE)\n",
        "    dataset = dataset.map(extract_fn, num_parallel_calls=tf.data.experimental.AUTOTUNE)\n",
        "\n",
        "    train_data = train_dataset_generator(dataset.take(train_sz), is_training=True, batch_sz=BATCH_SZ, columns=channels, data_size=train_sz)\n",
        "\n",
        "    val_data = get_dataset(dataset.skip(train_sz).take(valid_sz), start=train_sz, end=train_sz+valid_sz, batch_sz= BATCH_SZ, columns=channels)\n",
        "    test_data = test_dataset(dataset.skip(train_sz+valid_sz).take(test_sz), start=train_sz+valid_sz, end=train_sz+valid_sz+test_sz)\n",
        "    print(\"Type: \"+str(type(train_data))+str(type(val_data))+str(type(test_data[0])))\n",
        "    resnet = tf.keras.models.load_model('resnet1_x3.hdf5')\n",
        "    for i in range(3):\n",
        "        print(\"Epoch: \"+str(i+1))\n",
        "        history = resnet.fit_generator(\n",
        "            train_data,\n",
        "            steps_per_epoch= train_sz // (BATCH_SZ), \n",
        "            epochs=1,\n",
        "            callbacks=callbacks_list,\n",
        "            verbose=verbose,#if hvd.rank()==0 else 0,\n",
        "            workers=tf.data.experimental.AUTOTUNE,#hvd.size()\n",
        "            use_multiprocessing=True)\n",
        "        \n",
        "    with tf.device('/device:gpu:1'):\n",
        "            print(tf.config.list_physical_devices('GPU'),len(tf.config.list_physical_devices('GPU')))\n",
        "            loss, acc = resnet.evaluate(val_data,batch_size=BATCH_SZ, verbose=1, workers=8, steps = valid_steps)\n",
        "            print(\"validation loss: \" +str(loss)+\" validation accuracy: \"+str(acc))\n",
        "\n",
        "    print('Netiwork has finished training')\n",
        "    print(\"Saving and Running Inference\")\n",
        "    resnet.save('resnet1_x3.hdf5')\n",
        "    #resnet=tf.keras.models.load_model('resnet1.hdf5')\n",
        "    pred=resnet.predict(test_data[0],batch_size=BATCH_SZ,verbose=1, workers=8)\n",
        "    probs = pred[:,1]\n",
        "    fpr, tpr, _ = roc_curve(np.squeeze(np.array(list(test_data[1].as_numpy_iterator()))), np.squeeze(np.array(probs)))\n",
        "    roc_auc = auc(fpr, tpr)\n",
        "    print('Test AUC: ' + str(roc_auc))"
      ],
      "execution_count": null,
      "outputs": [
        {
          "output_type": "stream",
          "text": [
            "WARNING:tensorflow:tf.keras.mixed_precision.experimental.LossScaleOptimizer is deprecated. Please use tf.keras.mixed_precision.LossScaleOptimizer instead. Note that the non-experimental LossScaleOptimizer does not take a DynamicLossScale but instead takes the dynamic configuration directly in the constructor. For example:\n",
            "  opt = tf.keras.mixed_precision.LossScaleOptimizer(opt)\n",
            "\n"
          ],
          "name": "stdout"
        },
        {
          "output_type": "stream",
          "text": [
            "/usr/local/lib/python3.7/dist-packages/tensorflow/python/keras/optimizer_v2/optimizer_v2.py:375: UserWarning: The `lr` argument is deprecated, use `learning_rate` instead.\n",
            "  \"The `lr` argument is deprecated, use `learning_rate` instead.\")\n"
          ],
          "name": "stderr"
        },
        {
          "output_type": "stream",
          "text": [
            "Model: \"model\"\n",
            "__________________________________________________________________________________________________\n",
            "Layer (type)                    Output Shape         Param #     Connected to                     \n",
            "==================================================================================================\n",
            "input_1 (InputLayer)            [(None, 375, 375, 8) 0                                            \n",
            "__________________________________________________________________________________________________\n",
            "conv2d (Conv2D)                 (None, 63, 63, 16)   56464       input_1[0][0]                    \n",
            "__________________________________________________________________________________________________\n",
            "activation (Activation)         (None, 63, 63, 16)   0           conv2d[0][0]                     \n",
            "__________________________________________________________________________________________________\n",
            "max_pooling2d (MaxPooling2D)    (None, 31, 31, 16)   0           activation[0][0]                 \n",
            "__________________________________________________________________________________________________\n",
            "conv2d_1 (Conv2D)               (None, 31, 31, 16)   2320        max_pooling2d[0][0]              \n",
            "__________________________________________________________________________________________________\n",
            "conv2d_2 (Conv2D)               (None, 31, 31, 16)   2320        conv2d_1[0][0]                   \n",
            "__________________________________________________________________________________________________\n",
            "add (Add)                       (None, 31, 31, 16)   0           conv2d_2[0][0]                   \n",
            "                                                                 max_pooling2d[0][0]              \n",
            "__________________________________________________________________________________________________\n",
            "activation_1 (Activation)       (None, 31, 31, 16)   0           add[0][0]                        \n",
            "__________________________________________________________________________________________________\n",
            "conv2d_3 (Conv2D)               (None, 31, 31, 16)   2320        activation_1[0][0]               \n",
            "__________________________________________________________________________________________________\n",
            "conv2d_4 (Conv2D)               (None, 31, 31, 16)   2320        conv2d_3[0][0]                   \n",
            "__________________________________________________________________________________________________\n",
            "add_1 (Add)                     (None, 31, 31, 16)   0           conv2d_4[0][0]                   \n",
            "                                                                 activation_1[0][0]               \n",
            "__________________________________________________________________________________________________\n",
            "activation_2 (Activation)       (None, 31, 31, 16)   0           add_1[0][0]                      \n",
            "__________________________________________________________________________________________________\n",
            "conv2d_5 (Conv2D)               (None, 31, 31, 16)   2320        activation_2[0][0]               \n",
            "__________________________________________________________________________________________________\n",
            "conv2d_6 (Conv2D)               (None, 31, 31, 16)   2320        conv2d_5[0][0]                   \n",
            "__________________________________________________________________________________________________\n",
            "add_2 (Add)                     (None, 31, 31, 16)   0           conv2d_6[0][0]                   \n",
            "                                                                 activation_2[0][0]               \n",
            "__________________________________________________________________________________________________\n",
            "activation_3 (Activation)       (None, 31, 31, 16)   0           add_2[0][0]                      \n",
            "__________________________________________________________________________________________________\n",
            "conv2d_7 (Conv2D)               (None, 16, 16, 32)   4640        activation_3[0][0]               \n",
            "__________________________________________________________________________________________________\n",
            "conv2d_8 (Conv2D)               (None, 16, 16, 32)   9248        conv2d_7[0][0]                   \n",
            "__________________________________________________________________________________________________\n",
            "conv2d_9 (Conv2D)               (None, 16, 16, 32)   544         activation_3[0][0]               \n",
            "__________________________________________________________________________________________________\n",
            "add_3 (Add)                     (None, 16, 16, 32)   0           conv2d_8[0][0]                   \n",
            "                                                                 conv2d_9[0][0]                   \n",
            "__________________________________________________________________________________________________\n",
            "activation_4 (Activation)       (None, 16, 16, 32)   0           add_3[0][0]                      \n",
            "__________________________________________________________________________________________________\n",
            "conv2d_10 (Conv2D)              (None, 16, 16, 32)   9248        activation_4[0][0]               \n",
            "__________________________________________________________________________________________________\n",
            "conv2d_11 (Conv2D)              (None, 16, 16, 32)   9248        conv2d_10[0][0]                  \n",
            "__________________________________________________________________________________________________\n",
            "add_4 (Add)                     (None, 16, 16, 32)   0           conv2d_11[0][0]                  \n",
            "                                                                 activation_4[0][0]               \n",
            "__________________________________________________________________________________________________\n",
            "activation_5 (Activation)       (None, 16, 16, 32)   0           add_4[0][0]                      \n",
            "__________________________________________________________________________________________________\n",
            "conv2d_12 (Conv2D)              (None, 16, 16, 32)   9248        activation_5[0][0]               \n",
            "__________________________________________________________________________________________________\n",
            "conv2d_13 (Conv2D)              (None, 16, 16, 32)   9248        conv2d_12[0][0]                  \n",
            "__________________________________________________________________________________________________\n",
            "add_5 (Add)                     (None, 16, 16, 32)   0           conv2d_13[0][0]                  \n",
            "                                                                 activation_5[0][0]               \n",
            "__________________________________________________________________________________________________\n",
            "activation_6 (Activation)       (None, 16, 16, 32)   0           add_5[0][0]                      \n",
            "__________________________________________________________________________________________________\n",
            "conv2d_14 (Conv2D)              (None, 16, 16, 32)   9248        activation_6[0][0]               \n",
            "__________________________________________________________________________________________________\n",
            "conv2d_15 (Conv2D)              (None, 16, 16, 32)   9248        conv2d_14[0][0]                  \n",
            "__________________________________________________________________________________________________\n",
            "add_6 (Add)                     (None, 16, 16, 32)   0           conv2d_15[0][0]                  \n",
            "                                                                 activation_6[0][0]               \n",
            "__________________________________________________________________________________________________\n",
            "activation_7 (Activation)       (None, 16, 16, 32)   0           add_6[0][0]                      \n",
            "__________________________________________________________________________________________________\n",
            "max_pooling2d_1 (MaxPooling2D)  (None, 8, 8, 32)     0           activation_7[0][0]               \n",
            "__________________________________________________________________________________________________\n",
            "flatten (Flatten)               (None, 2048)         0           max_pooling2d_1[0][0]            \n",
            "__________________________________________________________________________________________________\n",
            "dense (Dense)                   (None, 2)            4098        flatten[0][0]                    \n",
            "__________________________________________________________________________________________________\n",
            "activation_8 (Activation)       (None, 2)            0           dense[0][0]                      \n",
            "==================================================================================================\n",
            "Total params: 144,402\n",
            "Trainable params: 144,402\n",
            "Non-trainable params: 0\n",
            "__________________________________________________________________________________________________\n",
            "Stage1 shuffle time: tf.Tensor(1627484708.430839, shape=(), dtype=float64)\n",
            "Stage2 shuffle time: tf.Tensor(1627484708.431987, shape=(), dtype=float64)\n",
            "Stage1 map+shuffle+repeat+batch+prefetch time: tf.Tensor(1627484708.432119, shape=(), dtype=float64)\n",
            "Stage2 map+shuffle+repeat+batch+prefetch time: tf.Tensor(1627484708.442421, shape=(), dtype=float64)\n",
            "Type: <class 'tensorflow.python.data.ops.dataset_ops.PrefetchDataset'><class 'tensorflow.python.data.ops.dataset_ops.PrefetchDataset'><class 'tensorflow.python.data.ops.dataset_ops.BatchDataset'>\n",
            "Epoch: 1\n"
          ],
          "name": "stdout"
        },
        {
          "output_type": "stream",
          "text": [
            "/usr/local/lib/python3.7/dist-packages/tensorflow/python/keras/engine/training.py:1940: UserWarning: `Model.fit_generator` is deprecated and will be removed in a future version. Please use `Model.fit`, which supports generators.\n",
            "  warnings.warn('`Model.fit_generator` is deprecated and '\n",
            "/usr/local/lib/python3.7/dist-packages/tensorflow/python/keras/utils/generic_utils.py:497: CustomMaskWarning: Custom mask layers require a config and must override get_config. When loading, the custom mask layer must be passed to the custom_objects argument.\n",
            "  category=CustomMaskWarning)\n"
          ],
          "name": "stderr"
        },
        {
          "output_type": "stream",
          "text": [
            "    6/10000 [..............................] - ETA: 1:39:24 - loss: 0.1879 - accuracy: 0.9141WARNING:tensorflow:Callback method `on_train_batch_end` is slow compared to the batch time (batch time: 0.2026s vs `on_train_batch_end` time: 0.2490s). Check your callbacks.\n",
            "10000/10000 [==============================] - 8537s 850ms/step - loss: 0.2227 - accuracy: 0.9116\n",
            "\n",
            " Timestamp: tf.Tensor(1627493248.019378, shape=(), dtype=float64)\n",
            "\n",
            "Epoch 00001: saving model to MODELS_BTJ_TF/_BoostedJets-opendata_ResNet_blocks3_x1_epochs3-20210728-150337/epoch01.hdf5\n",
            "Epoch: 2\n",
            " 7171/10000 [====================>.........] - ETA: 40:17 - loss: 0.2124 - accuracy: 0.9158"
          ],
          "name": "stdout"
        }
      ]
    },
    {
      "cell_type": "code",
      "metadata": {
        "colab": {
          "base_uri": "https://localhost:8080/"
        },
        "id": "ZglWphCQcJtC",
        "outputId": "e909141d-6bfb-4cc5-a5fd-cd1b9cac2248"
      },
      "source": [
        "resnet.save('resnet1_x3.hdf5')"
      ],
      "execution_count": null,
      "outputs": [
        {
          "output_type": "stream",
          "text": [
            "/usr/local/lib/python3.7/dist-packages/tensorflow/python/keras/utils/generic_utils.py:497: CustomMaskWarning: Custom mask layers require a config and must override get_config. When loading, the custom mask layer must be passed to the custom_objects argument.\n",
            "  category=CustomMaskWarning)\n"
          ],
          "name": "stderr"
        }
      ]
    },
    {
      "cell_type": "code",
      "metadata": {
        "id": "aXv7UFS5cOzh",
        "colab": {
          "base_uri": "https://localhost:8080/"
        },
        "outputId": "5e909336-1d96-4732-b97d-8ec4203839ea"
      },
      "source": [
        "resnet=tf.keras.models.load_model('resnet1_x3.hdf5')\n",
        "names = test_datafile\n",
        "dataset = tf.data.TFRecordDataset(filenames=names, compression_type='GZIP', num_parallel_reads=tf.data.experimental.AUTOTUNE)\n",
        "dataset = dataset.map(extract_fn, num_parallel_calls=tf.data.experimental.AUTOTUNE)\n",
        "test_data = test_dataset(dataset.take(test_sz), start=0, end=int(test_sz))\n",
        "pred=resnet.predict(test_data[0],batch_size=BATCH_SZ,verbose=1, workers=8)\n",
        "probs = pred[:,1]\n",
        "fpr, tpr, _ = roc_curve(np.squeeze(np.array(list(test_data[1].as_numpy_iterator()))), np.squeeze(np.array(probs)))\n",
        "roc_auc = auc(fpr, tpr)\n",
        "print('Test AUC: ' + str(roc_auc))"
      ],
      "execution_count": null,
      "outputs": [
        {
          "output_type": "stream",
          "text": [
            "1000/1000 [==============================] - 448s 418ms/step\n",
            "Test AUC: 0.9665116759621125\n"
          ],
          "name": "stdout"
        }
      ]
    },
    {
      "cell_type": "code",
      "metadata": {
        "colab": {
          "base_uri": "https://localhost:8080/"
        },
        "id": "oPKsA0XhcYQv",
        "outputId": "fd3889e3-b79c-4e29-c2f5-2ca1a736881d"
      },
      "source": [
        "# Build network\n",
        "resnet = create_resnet()\n",
        "resnet=tf.keras.models.load_model('resnet1.hdf5')\n",
        "\n",
        "# Path to directory containing TFRecord files\n",
        "datafile = glob.glob('./data_shared/BoostedTop_x1_fixed_tfrecord/BoostedJets_fullSample_x1_file-1*') #datafile = tf.data.Dataset.list_files('/home/u00u5ev76whwBTLvWe357/multiGPU/tfrecord_x1/*')\n",
        "\n",
        "#LOADING DATA\n",
        "names = datafile\n",
        "dataset = tf.data.TFRecordDataset(filenames=names, compression_type='GZIP', num_parallel_reads=tf.data.experimental.AUTOTUNE)\n",
        "dataset = dataset.map(extract_fn, num_parallel_calls=tf.data.experimental.AUTOTUNE)\n",
        "\n",
        "test_data = test_dataset(dataset.skip(0).take(train_sz+valid_sz+test_sz), start=0, end=train_sz+valid_sz+test_sz)\n",
        "pred=resnet.predict(test_data[0],batch_size=BATCH_SZ,verbose=1, workers=8)\n",
        "probs = pred[:,1]\n",
        "fpr, tpr, _ = roc_curve(np.squeeze(np.array(list(test_data[1].as_numpy_iterator()))), np.squeeze(np.array(probs)))\n",
        "roc_auc = auc(fpr, tpr)\n",
        "print('Test AUC: ' + str(roc_auc))"
      ],
      "execution_count": null,
      "outputs": [
        {
          "output_type": "stream",
          "text": [
            "WARNING:tensorflow:tf.keras.mixed_precision.experimental.LossScaleOptimizer is deprecated. Please use tf.keras.mixed_precision.LossScaleOptimizer instead. Note that the non-experimental LossScaleOptimizer does not take a DynamicLossScale but instead takes the dynamic configuration directly in the constructor. For example:\n",
            "  opt = tf.keras.mixed_precision.LossScaleOptimizer(opt)\n",
            "\n"
          ],
          "name": "stdout"
        },
        {
          "output_type": "stream",
          "text": [
            "/usr/local/lib/python3.7/dist-packages/tensorflow/python/keras/optimizer_v2/optimizer_v2.py:375: UserWarning: The `lr` argument is deprecated, use `learning_rate` instead.\n",
            "  \"The `lr` argument is deprecated, use `learning_rate` instead.\")\n"
          ],
          "name": "stderr"
        },
        {
          "output_type": "stream",
          "text": [
            "Model: \"model_5\"\n",
            "__________________________________________________________________________________________________\n",
            "Layer (type)                    Output Shape         Param #     Connected to                     \n",
            "==================================================================================================\n",
            "input_6 (InputLayer)            [(None, 125, 125, 8) 0                                            \n",
            "__________________________________________________________________________________________________\n",
            "conv2d_80 (Conv2D)              (None, 63, 63, 16)   6288        input_6[0][0]                    \n",
            "__________________________________________________________________________________________________\n",
            "activation_45 (Activation)      (None, 63, 63, 16)   0           conv2d_80[0][0]                  \n",
            "__________________________________________________________________________________________________\n",
            "max_pooling2d_10 (MaxPooling2D) (None, 31, 31, 16)   0           activation_45[0][0]              \n",
            "__________________________________________________________________________________________________\n",
            "conv2d_81 (Conv2D)              (None, 31, 31, 16)   2320        max_pooling2d_10[0][0]           \n",
            "__________________________________________________________________________________________________\n",
            "conv2d_82 (Conv2D)              (None, 31, 31, 16)   2320        conv2d_81[0][0]                  \n",
            "__________________________________________________________________________________________________\n",
            "add_35 (Add)                    (None, 31, 31, 16)   0           conv2d_82[0][0]                  \n",
            "                                                                 max_pooling2d_10[0][0]           \n",
            "__________________________________________________________________________________________________\n",
            "activation_46 (Activation)      (None, 31, 31, 16)   0           add_35[0][0]                     \n",
            "__________________________________________________________________________________________________\n",
            "conv2d_83 (Conv2D)              (None, 31, 31, 16)   2320        activation_46[0][0]              \n",
            "__________________________________________________________________________________________________\n",
            "conv2d_84 (Conv2D)              (None, 31, 31, 16)   2320        conv2d_83[0][0]                  \n",
            "__________________________________________________________________________________________________\n",
            "add_36 (Add)                    (None, 31, 31, 16)   0           conv2d_84[0][0]                  \n",
            "                                                                 activation_46[0][0]              \n",
            "__________________________________________________________________________________________________\n",
            "activation_47 (Activation)      (None, 31, 31, 16)   0           add_36[0][0]                     \n",
            "__________________________________________________________________________________________________\n",
            "conv2d_85 (Conv2D)              (None, 31, 31, 16)   2320        activation_47[0][0]              \n",
            "__________________________________________________________________________________________________\n",
            "conv2d_86 (Conv2D)              (None, 31, 31, 16)   2320        conv2d_85[0][0]                  \n",
            "__________________________________________________________________________________________________\n",
            "add_37 (Add)                    (None, 31, 31, 16)   0           conv2d_86[0][0]                  \n",
            "                                                                 activation_47[0][0]              \n",
            "__________________________________________________________________________________________________\n",
            "activation_48 (Activation)      (None, 31, 31, 16)   0           add_37[0][0]                     \n",
            "__________________________________________________________________________________________________\n",
            "conv2d_87 (Conv2D)              (None, 16, 16, 32)   4640        activation_48[0][0]              \n",
            "__________________________________________________________________________________________________\n",
            "conv2d_88 (Conv2D)              (None, 16, 16, 32)   9248        conv2d_87[0][0]                  \n",
            "__________________________________________________________________________________________________\n",
            "conv2d_89 (Conv2D)              (None, 16, 16, 32)   544         activation_48[0][0]              \n",
            "__________________________________________________________________________________________________\n",
            "add_38 (Add)                    (None, 16, 16, 32)   0           conv2d_88[0][0]                  \n",
            "                                                                 conv2d_89[0][0]                  \n",
            "__________________________________________________________________________________________________\n",
            "activation_49 (Activation)      (None, 16, 16, 32)   0           add_38[0][0]                     \n",
            "__________________________________________________________________________________________________\n",
            "conv2d_90 (Conv2D)              (None, 16, 16, 32)   9248        activation_49[0][0]              \n",
            "__________________________________________________________________________________________________\n",
            "conv2d_91 (Conv2D)              (None, 16, 16, 32)   9248        conv2d_90[0][0]                  \n",
            "__________________________________________________________________________________________________\n",
            "add_39 (Add)                    (None, 16, 16, 32)   0           conv2d_91[0][0]                  \n",
            "                                                                 activation_49[0][0]              \n",
            "__________________________________________________________________________________________________\n",
            "activation_50 (Activation)      (None, 16, 16, 32)   0           add_39[0][0]                     \n",
            "__________________________________________________________________________________________________\n",
            "conv2d_92 (Conv2D)              (None, 16, 16, 32)   9248        activation_50[0][0]              \n",
            "__________________________________________________________________________________________________\n",
            "conv2d_93 (Conv2D)              (None, 16, 16, 32)   9248        conv2d_92[0][0]                  \n",
            "__________________________________________________________________________________________________\n",
            "add_40 (Add)                    (None, 16, 16, 32)   0           conv2d_93[0][0]                  \n",
            "                                                                 activation_50[0][0]              \n",
            "__________________________________________________________________________________________________\n",
            "activation_51 (Activation)      (None, 16, 16, 32)   0           add_40[0][0]                     \n",
            "__________________________________________________________________________________________________\n",
            "conv2d_94 (Conv2D)              (None, 16, 16, 32)   9248        activation_51[0][0]              \n",
            "__________________________________________________________________________________________________\n",
            "conv2d_95 (Conv2D)              (None, 16, 16, 32)   9248        conv2d_94[0][0]                  \n",
            "__________________________________________________________________________________________________\n",
            "add_41 (Add)                    (None, 16, 16, 32)   0           conv2d_95[0][0]                  \n",
            "                                                                 activation_51[0][0]              \n",
            "__________________________________________________________________________________________________\n",
            "activation_52 (Activation)      (None, 16, 16, 32)   0           add_41[0][0]                     \n",
            "__________________________________________________________________________________________________\n",
            "max_pooling2d_11 (MaxPooling2D) (None, 8, 8, 32)     0           activation_52[0][0]              \n",
            "__________________________________________________________________________________________________\n",
            "flatten_5 (Flatten)             (None, 2048)         0           max_pooling2d_11[0][0]           \n",
            "__________________________________________________________________________________________________\n",
            "dense_5 (Dense)                 (None, 2)            4098        flatten_5[0][0]                  \n",
            "__________________________________________________________________________________________________\n",
            "activation_53 (Activation)      (None, 2)            0           dense_5[0][0]                    \n",
            "==================================================================================================\n",
            "Total params: 94,226\n",
            "Trainable params: 94,226\n",
            "Non-trainable params: 0\n",
            "__________________________________________________________________________________________________\n",
            "11000/11000 [==============================] - 540s 49ms/step\n",
            "Test AUC: 0.9756793915005776\n"
          ],
          "name": "stdout"
        }
      ]
    },
    {
      "cell_type": "code",
      "metadata": {
        "colab": {
          "base_uri": "https://localhost:8080/"
        },
        "id": "P3J3waavOjVQ",
        "outputId": "e3691f72-625d-4db3-dd50-46a1537696b4"
      },
      "source": [
        "len(datafile)"
      ],
      "execution_count": null,
      "outputs": [
        {
          "output_type": "execute_result",
          "data": {
            "text/plain": [
              "111"
            ]
          },
          "metadata": {
            "tags": []
          },
          "execution_count": 20
        }
      ]
    }
  ]
}